{
 "cells": [
  {
   "cell_type": "code",
   "execution_count": 12,
   "id": "dcbb021a",
   "metadata": {},
   "outputs": [],
   "source": [
    "from jupyterwf.data import get_fremont_data\n",
    "import pandas as pd\n",
    "\n",
    "def test_fremont_data():\n",
    "    data = get_fremont_data()\n",
    "    assert all(data.columns == ['Total', 'West', 'East'])\n",
    "    assert isinstance(data.index, pd.DatetimeIndex)"
   ]
  },
  {
   "cell_type": "code",
   "execution_count": 13,
   "id": "032434cf",
   "metadata": {},
   "outputs": [],
   "source": [
    "test_fremont_data()"
   ]
  },
  {
   "cell_type": "code",
   "execution_count": null,
   "id": "6adc2840",
   "metadata": {},
   "outputs": [],
   "source": []
  }
 ],
 "metadata": {
  "kernelspec": {
   "display_name": "Python 3 (ipykernel)",
   "language": "python",
   "name": "python3"
  },
  "language_info": {
   "codemirror_mode": {
    "name": "ipython",
    "version": 3
   },
   "file_extension": ".py",
   "mimetype": "text/x-python",
   "name": "python",
   "nbconvert_exporter": "python",
   "pygments_lexer": "ipython3",
   "version": "3.10.8"
  }
 },
 "nbformat": 4,
 "nbformat_minor": 5
}
