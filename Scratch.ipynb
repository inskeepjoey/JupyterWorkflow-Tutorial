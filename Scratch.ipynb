{
 "cells": [
  {
   "cell_type": "code",
   "execution_count": 2,
   "id": "de0d5552",
   "metadata": {},
   "outputs": [],
   "source": [
    "from jupyterwf.data import get_fremont_data\n",
    "import pandas as pd\n",
    "\n",
    "def test_fremont_data():\n",
    "    data = get_fremont_data()\n",
    "    assert all(data.columns == ['Total', 'West', 'East'])\n",
    "    assert isinstance(data.index, pd.DatetimeIndex)"
   ]
  },
  {
   "cell_type": "code",
   "execution_count": 13,
   "id": "e0df0fb1",
   "metadata": {},
   "outputs": [],
   "source": [
    "test_fremont_data()"
   ]
  },
  {
   "cell_type": "code",
   "execution_count": 14,
   "id": "e899d5f7",
   "metadata": {},
   "outputs": [],
   "source": [
    "data = pd.read_csv('Fremont.csv', index_col='Date')\n",
    "#data.head\n",
    "try:\n",
    "    data.index = pd.to_datetime(data.index, format = '%m/%d/%Y %H:%M:%S %p')\n",
    "except TypeError:\n",
    "    data.index = pd.to_datetime(data.index)"
   ]
  },
  {
   "cell_type": "code",
   "execution_count": 11,
   "id": "5c768fc4",
   "metadata": {},
   "outputs": [
    {
     "data": {
      "text/plain": [
       "Index(['10/03/2012 12:00:00 AM', '10/03/2012 01:00:00 AM',\n",
       "       '10/03/2012 02:00:00 AM', '10/03/2012 03:00:00 AM',\n",
       "       '10/03/2012 04:00:00 AM', '10/03/2012 05:00:00 AM',\n",
       "       '10/03/2012 06:00:00 AM', '10/03/2012 07:00:00 AM',\n",
       "       '10/03/2012 08:00:00 AM', '10/03/2012 09:00:00 AM',\n",
       "       ...\n",
       "       '09/30/2022 02:00:00 PM', '09/30/2022 03:00:00 PM',\n",
       "       '09/30/2022 04:00:00 PM', '09/30/2022 05:00:00 PM',\n",
       "       '09/30/2022 06:00:00 PM', '09/30/2022 07:00:00 PM',\n",
       "       '09/30/2022 08:00:00 PM', '09/30/2022 09:00:00 PM',\n",
       "       '09/30/2022 10:00:00 PM', '09/30/2022 11:00:00 PM'],\n",
       "      dtype='object', name='Date', length=87600)"
      ]
     },
     "execution_count": 11,
     "metadata": {},
     "output_type": "execute_result"
    }
   ],
   "source": [
    "data.index"
   ]
  },
  {
   "cell_type": "code",
   "execution_count": null,
   "id": "371e8876",
   "metadata": {},
   "outputs": [],
   "source": [
    "data.columns = ['Total', 'West', 'East']"
   ]
  },
  {
   "cell_type": "code",
   "execution_count": null,
   "id": "cc11e625",
   "metadata": {},
   "outputs": [],
   "source": []
  }
 ],
 "metadata": {
  "kernelspec": {
   "display_name": "Python 3 (ipykernel)",
   "language": "python",
   "name": "python3"
  },
  "language_info": {
   "codemirror_mode": {
    "name": "ipython",
    "version": 3
   },
   "file_extension": ".py",
   "mimetype": "text/x-python",
   "name": "python",
   "nbconvert_exporter": "python",
   "pygments_lexer": "ipython3",
   "version": "3.10.8"
  }
 },
 "nbformat": 4,
 "nbformat_minor": 5
}
